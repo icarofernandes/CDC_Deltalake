{
 "cells": [
  {
   "cell_type": "code",
   "execution_count": 27,
   "source": [
    "import pandas               as pd\n",
    "import numpy                as np\n",
    "from pyspark.sql            import SparkSession\n",
    "from pyspark.sql.functions  import DataFrame\n",
    "from pyspark.sql.session    import SparkSession"
   ],
   "outputs": [],
   "metadata": {}
  },
  {
   "cell_type": "code",
   "execution_count": 28,
   "source": [
    "spark = SparkSession.builder.appName(\"CDC - Deltalake_CDC\") \\\n",
    "    .config(\"spark.jars.packages\", \"io.delta:delta-core_2.12:1.0.0\") \\\n",
    "    .config(\"spark.sql.extensions\", \"io.delta.sql.DeltaSparkSessionExtension\") \\\n",
    "    .config(\"spark.sql.catalog.spark_catalog\", \"org.apache.spark.sql.delta.catalog.DeltaCatalog\") \\\n",
    "    .getOrCreate()"
   ],
   "outputs": [],
   "metadata": {}
  },
  {
   "cell_type": "code",
   "execution_count": 29,
   "source": [
    "def read_data(path: str, format: str) -> DataFrame:\n",
    "        \"\"\"[Read data on local path]\n",
    "\n",
    "        Args:\n",
    "            path (str): [data location path]\n",
    "\n",
    "        Returns:\n",
    "            DataFrame: [Dataframe with data]\n",
    "        \"\"\"        \n",
    "        df = spark.read.format(format)\\\n",
    "            .option(\"inferSchema\", \"true\")\\\n",
    "            .option(\"header\", \"true\")\\\n",
    "            .load(path)\n",
    "\n",
    "        return df"
   ],
   "outputs": [],
   "metadata": {}
  },
  {
   "cell_type": "code",
   "execution_count": 30,
   "source": [
    "spark.sparkContext.setLogLevel(\"INFO\")"
   ],
   "outputs": [],
   "metadata": {}
  },
  {
   "cell_type": "code",
   "execution_count": 31,
   "source": [
    "from delta.tables import *\n",
    "from pyspark.sql.functions import *"
   ],
   "outputs": [],
   "metadata": {}
  },
  {
   "cell_type": "markdown",
   "source": [
    "# Reading of paths with saprk.read and saving as delta"
   ],
   "metadata": {}
  },
  {
   "cell_type": "code",
   "execution_count": 32,
   "source": [
    "# Location variables - mes4/dia01\n",
    "csvFilePath = \"/media/hdd-1/mygit/CDC/DATA_EX.csv\"\n",
    "# Read data\n",
    "departureDelays = spark.read \\\n",
    ".option(\"header\", \"true\") \\\n",
    ".option(\"inferSchema\", \"true\") \\\n",
    ".csv(csvFilePath)"
   ],
   "outputs": [],
   "metadata": {}
  },
  {
   "cell_type": "code",
   "execution_count": 33,
   "source": [
    "# Save csv into Delta Lake format\n",
    "departureDelays \\\n",
    ".write \\\n",
    ".format(\"delta\") \\\n",
    ".mode(\"overwrite\") \\\n",
    ".save(\"/media/hdd-1/mygit/CDC/DATA_EX.delta\")"
   ],
   "outputs": [],
   "metadata": {}
  },
  {
   "cell_type": "code",
   "execution_count": 34,
   "source": [
    "# Transforming parquet into Dataframe to extract columns and rows\n",
    "df = read_data(\"/media/hdd-1/mygit/CDC/DATA_EX.delta\", \"delta\")"
   ],
   "outputs": [],
   "metadata": {}
  },
  {
   "cell_type": "code",
   "execution_count": 35,
   "source": [
    "df.where(\"DN_CODE = 44\").show()"
   ],
   "outputs": [
    {
     "output_type": "stream",
     "name": "stdout",
     "text": [
      "+-------+---------+-------+------+-----+\n",
      "|DN_CODE|DN_CODLFA|DN_NAME|COD_UN|LEVEL|\n",
      "+-------+---------+-------+------+-----+\n",
      "+-------+---------+-------+------+-----+\n",
      "\n"
     ]
    }
   ],
   "metadata": {}
  },
  {
   "cell_type": "markdown",
   "source": [
    "# STEP MERGE"
   ],
   "metadata": {}
  },
  {
   "cell_type": "markdown",
   "source": [
    "Step 1: spark dataframe in pandas dataframe"
   ],
   "metadata": {}
  },
  {
   "cell_type": "code",
   "execution_count": 36,
   "source": [
    "dt1 = df.toPandas()\n",
    "dt2 = dt1[dt1[\"DN_CODE\"]>0]\n",
    "type(dt2)\n"
   ],
   "outputs": [
    {
     "output_type": "execute_result",
     "data": {
      "text/plain": [
       "pandas.core.frame.DataFrame"
      ]
     },
     "metadata": {},
     "execution_count": 36
    }
   ],
   "metadata": {}
  },
  {
   "cell_type": "markdown",
   "source": [
    "Step 2: Use df.values ​​to get a numpy array of values"
   ],
   "metadata": {}
  },
  {
   "cell_type": "code",
   "execution_count": 37,
   "source": [
    "# DataFrame.values attribute Pandas returns a NumPy representation of the given DataFrame.\n",
    "vls = dt2.values.tolist()  "
   ],
   "outputs": [],
   "metadata": {}
  },
  {
   "cell_type": "code",
   "execution_count": 38,
   "source": [
    "cols = df.columns\n",
    "items = vls\n",
    "merge_table = spark.createDataFrame(items, cols)\n",
    "merge_table.count()\n",
    "merge_table.sort(merge_table.DN_CODE.desc()).show()"
   ],
   "outputs": [
    {
     "output_type": "stream",
     "name": "stdout",
     "text": [
      "+-------+---------+--------------------+-------------+-----+\n",
      "|DN_CODE|DN_CODLFA|             DN_NAME|       COD_UN|LEVEL|\n",
      "+-------+---------+--------------------+-------------+-----+\n",
      "|     43|    Salim|        SALINOMYCINE|        MG/KG|   41|\n",
      "|     42|    Lasal|          LASALOCIDE|        MG/KG|   40|\n",
      "|     41|    MoneN|           MONENSINA|        MG/KG|   39|\n",
      "|     39|       FB|         GROSS FIBER|         % MS|   38|\n",
      "|     38|     NFDN|NITROGEN LINKED T...|         % MS|   37|\n",
      "|     37|  Lignina|             LIGNINE|         % MS|   32|\n",
      "|     36|      FDA|FIBER IN ACID DET...|         % MS|   36|\n",
      "|     35|   CINZAS|                 ASH|         % MS|   35|\n",
      "|     34|      PDR|                 PDR|         % PB|   34|\n",
      "|     33|      ENN|NON-NITROGEN EXTR...|         % MS|   31|\n",
      "|     31|     VitE|           VITAMIN E|     UI/KG MS|   30|\n",
      "|     30|     VitD|           D VITAMIN|1000 UI/KG MS|   29|\n",
      "|     29|     VitA|           VITAMIN A|1000 UI/KG MS|   28|\n",
      "|     28|       Cr|              CHROME|        MG/KG|   27|\n",
      "|     27|       Zn|                ZINC|        MG/KG|   26|\n",
      "|     26|       Se|            SELENIUM|        MG/KG|   25|\n",
      "|     25|       Mn|           MANGANESE|        MG/KG|   24|\n",
      "|     24|        I|              IODINE|        MG/KG|   23|\n",
      "|     23|       Fe|                IRON|        MG/KG|   22|\n",
      "|     22|       Cu|              COPPER|        MG/KG|   21|\n",
      "+-------+---------+--------------------+-------------+-----+\n",
      "only showing top 20 rows\n",
      "\n"
     ]
    }
   ],
   "metadata": {}
  },
  {
   "cell_type": "code",
   "execution_count": 39,
   "source": [
    "merge_table.sort(merge_table.DN_CODE.desc()).show()"
   ],
   "outputs": [
    {
     "output_type": "stream",
     "name": "stdout",
     "text": [
      "+-------+---------+--------------------+-------------+-----+\n",
      "|DN_CODE|DN_CODLFA|             DN_NAME|       COD_UN|LEVEL|\n",
      "+-------+---------+--------------------+-------------+-----+\n",
      "|     43|    Salim|        SALINOMYCINE|        MG/KG|   41|\n",
      "|     42|    Lasal|          LASALOCIDE|        MG/KG|   40|\n",
      "|     41|    MoneN|           MONENSINA|        MG/KG|   39|\n",
      "|     39|       FB|         GROSS FIBER|         % MS|   38|\n",
      "|     38|     NFDN|NITROGEN LINKED T...|         % MS|   37|\n",
      "|     37|  Lignina|             LIGNINE|         % MS|   32|\n",
      "|     36|      FDA|FIBER IN ACID DET...|         % MS|   36|\n",
      "|     35|   CINZAS|                 ASH|         % MS|   35|\n",
      "|     34|      PDR|                 PDR|         % PB|   34|\n",
      "|     33|      ENN|NON-NITROGEN EXTR...|         % MS|   31|\n",
      "|     31|     VitE|           VITAMIN E|     UI/KG MS|   30|\n",
      "|     30|     VitD|           D VITAMIN|1000 UI/KG MS|   29|\n",
      "|     29|     VitA|           VITAMIN A|1000 UI/KG MS|   28|\n",
      "|     28|       Cr|              CHROME|        MG/KG|   27|\n",
      "|     27|       Zn|                ZINC|        MG/KG|   26|\n",
      "|     26|       Se|            SELENIUM|        MG/KG|   25|\n",
      "|     25|       Mn|           MANGANESE|        MG/KG|   24|\n",
      "|     24|        I|              IODINE|        MG/KG|   23|\n",
      "|     23|       Fe|                IRON|        MG/KG|   22|\n",
      "|     22|       Cu|              COPPER|        MG/KG|   21|\n",
      "+-------+---------+--------------------+-------------+-----+\n",
      "only showing top 20 rows\n",
      "\n"
     ]
    }
   ],
   "metadata": {}
  },
  {
   "cell_type": "code",
   "execution_count": 40,
   "source": [
    "# Access the Delta Lake Table\n",
    "deltaTable = DeltaTable.forPath(spark, \"/media/hdd-1/mygit/CDC/DATA_EX.delta\")"
   ],
   "outputs": [],
   "metadata": {}
  },
  {
   "cell_type": "code",
   "execution_count": 41,
   "source": [
    "# Accessing the metadata of operations performed on Delta Lake\n",
    "deltaTable.history().show()"
   ],
   "outputs": [
    {
     "output_type": "stream",
     "name": "stdout",
     "text": [
      "+-------+-------------------+------+--------+---------+--------------------+----+--------+---------+-----------+--------------+-------------+--------------------+------------+\n",
      "|version|          timestamp|userId|userName|operation| operationParameters| job|notebook|clusterId|readVersion|isolationLevel|isBlindAppend|    operationMetrics|userMetadata|\n",
      "+-------+-------------------+------+--------+---------+--------------------+----+--------+---------+-----------+--------------+-------------+--------------------+------------+\n",
      "|      2|2021-07-26 12:05:22|  null|    null|    WRITE|{mode -> Overwrit...|null|    null|     null|          1|          null|        false|{numFiles -> 1, n...|        null|\n",
      "|      1|2021-07-26 12:04:08|  null|    null|    MERGE|{predicate -> (up...|null|    null|     null|          0|          null|        false|{numTargetRowsCop...|        null|\n",
      "|      0|2021-07-26 12:02:13|  null|    null|    WRITE|{mode -> Overwrit...|null|    null|     null|       null|          null|        false|{numFiles -> 1, n...|        null|\n",
      "+-------+-------------------+------+--------+---------+--------------------+----+--------+---------+-----------+--------------+-------------+--------------------+------------+\n",
      "\n"
     ]
    }
   ],
   "metadata": {}
  },
  {
   "cell_type": "markdown",
   "source": [],
   "metadata": {}
  },
  {
   "cell_type": "code",
   "execution_count": 42,
   "source": [
    "deltaTable.alias(\"deltaTable\") \\\n",
    "    .merge(merge_table.alias(\"updates\"),\"updates.DN_CODE = deltaTable.DN_CODE\") \\\n",
    "    .whenMatchedDelete(condition = \"updates.DN_CODE = true\") \\\n",
    "    .whenMatchedUpdateAll() \\\n",
    "    .whenNotMatchedInsertAll() \\\n",
    "    .execute()"
   ],
   "outputs": [],
   "metadata": {}
  },
  {
   "cell_type": "code",
   "execution_count": 43,
   "source": [
    "deltaTable.history().show()"
   ],
   "outputs": [
    {
     "output_type": "stream",
     "name": "stdout",
     "text": [
      "+-------+-------------------+------+--------+---------+--------------------+----+--------+---------+-----------+--------------+-------------+--------------------+------------+\n",
      "|version|          timestamp|userId|userName|operation| operationParameters| job|notebook|clusterId|readVersion|isolationLevel|isBlindAppend|    operationMetrics|userMetadata|\n",
      "+-------+-------------------+------+--------+---------+--------------------+----+--------+---------+-----------+--------------+-------------+--------------------+------------+\n",
      "|      3|2021-07-26 12:05:28|  null|    null|    MERGE|{predicate -> (up...|null|    null|     null|          2|          null|        false|{numTargetRowsCop...|        null|\n",
      "|      2|2021-07-26 12:05:22|  null|    null|    WRITE|{mode -> Overwrit...|null|    null|     null|          1|          null|        false|{numFiles -> 1, n...|        null|\n",
      "|      1|2021-07-26 12:04:08|  null|    null|    MERGE|{predicate -> (up...|null|    null|     null|          0|          null|        false|{numTargetRowsCop...|        null|\n",
      "|      0|2021-07-26 12:02:13|  null|    null|    WRITE|{mode -> Overwrit...|null|    null|     null|       null|          null|        false|{numFiles -> 1, n...|        null|\n",
      "+-------+-------------------+------+--------+---------+--------------------+----+--------+---------+-----------+--------------+-------------+--------------------+------------+\n",
      "\n"
     ]
    }
   ],
   "metadata": {}
  },
  {
   "cell_type": "code",
   "execution_count": 44,
   "source": [
    "delta = deltaTable.toDF()\n",
    "delta.count()"
   ],
   "outputs": [
    {
     "output_type": "execute_result",
     "data": {
      "text/plain": [
       "39"
      ]
     },
     "metadata": {},
     "execution_count": 44
    }
   ],
   "metadata": {}
  },
  {
   "cell_type": "code",
   "execution_count": 45,
   "source": [
    "delta.where(\"DN_CODE = 44\").show()"
   ],
   "outputs": [
    {
     "output_type": "stream",
     "name": "stdout",
     "text": [
      "+-------+---------+-------+------+-----+\n",
      "|DN_CODE|DN_CODLFA|DN_NAME|COD_UN|LEVEL|\n",
      "+-------+---------+-------+------+-----+\n",
      "+-------+---------+-------+------+-----+\n",
      "\n"
     ]
    }
   ],
   "metadata": {}
  },
  {
   "cell_type": "code",
   "execution_count": 46,
   "source": [
    "historical = spark.read.format(\"delta\").option(\"versionAsOf\", \"0\").load(\"/media/hdd-1/mygit/CDC/DATA_EX.delta\")\n",
    "historical.count()"
   ],
   "outputs": [
    {
     "output_type": "execute_result",
     "data": {
      "text/plain": [
       "41"
      ]
     },
     "metadata": {},
     "execution_count": 46
    }
   ],
   "metadata": {}
  },
  {
   "cell_type": "code",
   "execution_count": 47,
   "source": [
    "historical.where(\"DN_CODE = 44\").show()"
   ],
   "outputs": [
    {
     "output_type": "stream",
     "name": "stdout",
     "text": [
      "+-------+---------+--------------+------+-----+\n",
      "|DN_CODE|DN_CODLFA|       DN_NAME|COD_UN|LEVEL|\n",
      "+-------+---------+--------------+------+-----+\n",
      "|     44|   Virgin|VIRGINIAMICINE| MG/KG|   33|\n",
      "+-------+---------+--------------+------+-----+\n",
      "\n"
     ]
    }
   ],
   "metadata": {}
  }
 ],
 "metadata": {
  "orig_nbformat": 4,
  "language_info": {
   "name": "python",
   "version": "3.9.5",
   "mimetype": "text/x-python",
   "codemirror_mode": {
    "name": "ipython",
    "version": 3
   },
   "pygments_lexer": "ipython3",
   "nbconvert_exporter": "python",
   "file_extension": ".py"
  },
  "kernelspec": {
   "name": "python3",
   "display_name": "Python 3.9.5 64-bit"
  },
  "interpreter": {
   "hash": "31f2aee4e71d21fbe5cf8b01ff0e069b9275f58929596ceb00d14d90e3e16cd6"
  }
 },
 "nbformat": 4,
 "nbformat_minor": 2
}